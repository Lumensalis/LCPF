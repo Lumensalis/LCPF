{
 "cells": [
  {
   "cell_type": "code",
   "execution_count": 2,
   "id": "7a2fb422",
   "metadata": {},
   "outputs": [],
   "source": [
    "import LumenJupyterHelpers\n",
    "from LumenJupyterHelpers import *"
   ]
  },
  {
   "cell_type": "code",
   "execution_count": 3,
   "id": "5a33b2cc",
   "metadata": {},
   "outputs": [],
   "source": [
    "reloadLumenJupyterHelpers()\n",
    "from LumenJupyterHelpers import *"
   ]
  },
  {
   "cell_type": "code",
   "execution_count": 4,
   "id": "beadb824",
   "metadata": {},
   "outputs": [],
   "source": [
    "c = ControllerProxy( ip=\"192.168.15.206\" )\n"
   ]
  },
  {
   "cell_type": "code",
   "execution_count": 5,
   "id": "e5eb0f41",
   "metadata": {},
   "outputs": [],
   "source": [
    "#c.cmd(\"reload.MainAsyncRL\")"
   ]
  },
  {
   "cell_type": "code",
   "execution_count": 42,
   "id": "20f6a586",
   "metadata": {},
   "outputs": [
    {
     "data": {
      "text/plain": [
       "ResponseWrapper(200) : {'instance': 4915}"
      ]
     },
     "execution_count": 42,
     "metadata": {},
     "output_type": "execute_result"
    }
   ],
   "source": [
    "#c.sakRL( getStatusInfo='supervisor', ls='topics', path='actOne.patterns[0].__latestCycleWhen')\n",
    "c.sak( path='actOne.patterns[0].refreshCount')\n"
   ]
  },
  {
   "cell_type": "code",
   "execution_count": 43,
   "id": "a93f08e3",
   "metadata": {},
   "outputs": [
    {
     "data": {
      "text/plain": [
       "ResponseWrapper(200) : {'module': 'LumensalisCP.Temporal.RefreshableListRL', 'action': 'reloading'}"
      ]
     },
     "execution_count": 43,
     "metadata": {},
     "output_type": "execute_result"
    }
   ],
   "source": [
    "#c.sak( path='actOne._sceneRefreshables.processCount')\n",
    "\n",
    "#c.sak( enableDebug='actOne._sceneRefreshables')\n",
    "#c.sak( disableDebug='actOne._sceneRefreshables')\n",
    "\n",
    "#c.sak( enableDebug='actOne')\n",
    "#c.sak( disableDebug='actOne')\n",
    "\n",
    "\n",
    "#c.sak( enableDebug='main._refreshables')\n",
    "#c.sak( disableDebug='main._refreshables')\n",
    "c.cmd( \"reload.RefreshableListRL\")\n",
    "\n"
   ]
  },
  {
   "cell_type": "code",
   "execution_count": 38,
   "id": "ebcda7e3",
   "metadata": {},
   "outputs": [
    {
     "data": {
      "text/plain": [
       "ResponseWrapper(200) : {'status': {'misc': {'instanceCounts': {'Strip': 2, 'ControllerConfig': 8, 'ReloadableClassMeta': 15, 'PseudoTypingTBType': 15, 'ProfileStubFrameEntry': 2, 'CilgerranCastle': 4, 'PseudoTypingBracketExpression': 42, 'ProfileStubFrame': 2, 'I2CProvider': 1, 'MainAsyncLoop': 3, 'PatternGeneratorStep': 173, 'ControllerPins': 4, 'PseudoTypingModifier': 10, 'MainManager': 3, 'FloatPanelControlInstanceHelper': 4, 'MainRef': 1, 'Scene': 2, 'PseudoTypingUnion': 1, 'ActualImportProfiler': 66, 'PanelControl': 12, 'MainGCLoop': 3, 'RootRefreshableList': 2, 'SakActionGroup': 1, 'Profiler': 1, 'SceneRule': 6, 'BasicServer': 3, 'NeoPixelLight': 120, 'CilgerranPixelSource': 5, 'ManagerAsync': 2, '_MLCAnnotation': 33, 'Cylon': 2, 'NextNLights': 6, 'ManagerAsyncTask': 10, 'SimpleTable': 2, 'CilgerranBatterMonitor': 3, 'SceneRefreshables': 2, 'CaernarfonCastle': 4, 'D1MiniPinProxy': 28, 'CylonPatternStep': 776, 'CilgerranLED': 24, 'Blink': 2, 'EvaluationContext': 1, 'NliList': 36, 'TimingTracker': 16, 'Ring': 2, 'TerrainTronicsFactory': 2, 'QueryActionGroup': 2, 'Rainbow': 2, 'CallbackSource': 2, '_ref': 42, 'NeoPixelSource': 2, 'ReloadableModule': 12, 'FakeImportProfiler': 1, 'ConfigurableBase': 1, 'PanelParts': 1, 'AdafruitFactory': 3, 'ReloadableImportProfiler': 12, 'ControlPanel': 2, 'NamedNotifyingOutputTarget': 2, 'ControllerIdentity': 1, 'IndexMap': 2, 'ReleasablePool': 1, 'SceneManager': 2, 'RGB': 34, 'ProfileFrame': 10, 'PseudoTypingTType': 5, 'ControllerNVM': 1, 'RefreshablePrdInvAct': 4, 'I2CFactory': 3, 'SceneTask': 2}}}}"
      ]
     },
     "execution_count": 38,
     "metadata": {},
     "output_type": "execute_result"
    }
   ],
   "source": [
    "#c.sak( getStatusInfo='supervisor')\n",
    "\n",
    "c.sak( getStatusInfo='misc')"
   ]
  }
 ],
 "metadata": {
  "kernelspec": {
   "display_name": "LumenSalis32",
   "language": "python",
   "name": "python3"
  },
  "language_info": {
   "codemirror_mode": {
    "name": "ipython",
    "version": 3
   },
   "file_extension": ".py",
   "mimetype": "text/x-python",
   "name": "python",
   "nbconvert_exporter": "python",
   "pygments_lexer": "ipython3",
   "version": "3.12.7"
  }
 },
 "nbformat": 4,
 "nbformat_minor": 5
}
